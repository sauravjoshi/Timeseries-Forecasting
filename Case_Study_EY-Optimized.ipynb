{
 "cells": [
  {
   "cell_type": "code",
   "execution_count": 1,
   "metadata": {},
   "outputs": [],
   "source": [
    "import os\n",
    "import pandas as pd\n",
    "import numpy as np\n",
    "import math\n",
    "import matplotlib.pyplot as plt\n",
    "import seaborn as sns\n",
    "%matplotlib inline"
   ]
  },
  {
   "cell_type": "code",
   "execution_count": 2,
   "metadata": {},
   "outputs": [],
   "source": [
    "base_path = os.path.abspath('../')\n",
    "directory = os.path.join(base_path, 'Downloads/take_home_data_science_challenge')"
   ]
  },
  {
   "cell_type": "code",
   "execution_count": 3,
   "metadata": {},
   "outputs": [],
   "source": [
    "sales = pd.read_excel(os.path.join(directory, 'case_study.xlsx'), index_col='ISO_Week', parse_dates=True)"
   ]
  },
  {
   "cell_type": "code",
   "execution_count": 4,
   "metadata": {},
   "outputs": [
    {
     "data": {
      "text/html": [
       "<div>\n",
       "<style scoped>\n",
       "    .dataframe tbody tr th:only-of-type {\n",
       "        vertical-align: middle;\n",
       "    }\n",
       "\n",
       "    .dataframe tbody tr th {\n",
       "        vertical-align: top;\n",
       "    }\n",
       "\n",
       "    .dataframe thead th {\n",
       "        text-align: right;\n",
       "    }\n",
       "</style>\n",
       "<table border=\"1\" class=\"dataframe\">\n",
       "  <thead>\n",
       "    <tr style=\"text-align: right;\">\n",
       "      <th></th>\n",
       "      <th>SKU</th>\n",
       "      <th>Sales</th>\n",
       "      <th>Season</th>\n",
       "    </tr>\n",
       "    <tr>\n",
       "      <th>ISO_Week</th>\n",
       "      <th></th>\n",
       "      <th></th>\n",
       "      <th></th>\n",
       "    </tr>\n",
       "  </thead>\n",
       "  <tbody>\n",
       "    <tr>\n",
       "      <th>2018-01</th>\n",
       "      <td>ProductA</td>\n",
       "      <td>0.0</td>\n",
       "      <td>WINTER</td>\n",
       "    </tr>\n",
       "    <tr>\n",
       "      <th>2018-02</th>\n",
       "      <td>ProductA</td>\n",
       "      <td>0.0</td>\n",
       "      <td>WINTER</td>\n",
       "    </tr>\n",
       "    <tr>\n",
       "      <th>2018-03</th>\n",
       "      <td>ProductA</td>\n",
       "      <td>0.0</td>\n",
       "      <td>WINTER</td>\n",
       "    </tr>\n",
       "    <tr>\n",
       "      <th>2018-04</th>\n",
       "      <td>ProductA</td>\n",
       "      <td>6988.0</td>\n",
       "      <td>WINTER</td>\n",
       "    </tr>\n",
       "    <tr>\n",
       "      <th>2018-04</th>\n",
       "      <td>ProductA</td>\n",
       "      <td>6988.0</td>\n",
       "      <td>WINTER</td>\n",
       "    </tr>\n",
       "  </tbody>\n",
       "</table>\n",
       "</div>"
      ],
      "text/plain": [
       "               SKU   Sales  Season\n",
       "ISO_Week                          \n",
       "2018-01   ProductA     0.0  WINTER\n",
       "2018-02   ProductA     0.0  WINTER\n",
       "2018-03   ProductA     0.0  WINTER\n",
       "2018-04   ProductA  6988.0  WINTER\n",
       "2018-04   ProductA  6988.0  WINTER"
      ]
     },
     "execution_count": 4,
     "metadata": {},
     "output_type": "execute_result"
    }
   ],
   "source": [
    "sales.head(5)"
   ]
  },
  {
   "cell_type": "code",
   "execution_count": 5,
   "metadata": {},
   "outputs": [],
   "source": [
    "sales_pivot = pd.pivot_table(sales, values = 'Sales', index=['ISO_Week','Season'], columns = ['SKU'])"
   ]
  },
  {
   "cell_type": "code",
   "execution_count": 6,
   "metadata": {},
   "outputs": [
    {
     "data": {
      "text/html": [
       "<div>\n",
       "<style scoped>\n",
       "    .dataframe tbody tr th:only-of-type {\n",
       "        vertical-align: middle;\n",
       "    }\n",
       "\n",
       "    .dataframe tbody tr th {\n",
       "        vertical-align: top;\n",
       "    }\n",
       "\n",
       "    .dataframe thead th {\n",
       "        text-align: right;\n",
       "    }\n",
       "</style>\n",
       "<table border=\"1\" class=\"dataframe\">\n",
       "  <thead>\n",
       "    <tr style=\"text-align: right;\">\n",
       "      <th></th>\n",
       "      <th>SKU</th>\n",
       "      <th>ProductA</th>\n",
       "      <th>ProductB</th>\n",
       "      <th>ProductC</th>\n",
       "    </tr>\n",
       "    <tr>\n",
       "      <th>ISO_Week</th>\n",
       "      <th>Season</th>\n",
       "      <th></th>\n",
       "      <th></th>\n",
       "      <th></th>\n",
       "    </tr>\n",
       "  </thead>\n",
       "  <tbody>\n",
       "    <tr>\n",
       "      <th>2018-01</th>\n",
       "      <th>WINTER</th>\n",
       "      <td>0.0</td>\n",
       "      <td>NaN</td>\n",
       "      <td>NaN</td>\n",
       "    </tr>\n",
       "    <tr>\n",
       "      <th>2018-02</th>\n",
       "      <th>WINTER</th>\n",
       "      <td>0.0</td>\n",
       "      <td>NaN</td>\n",
       "      <td>NaN</td>\n",
       "    </tr>\n",
       "    <tr>\n",
       "      <th>2018-03</th>\n",
       "      <th>WINTER</th>\n",
       "      <td>0.0</td>\n",
       "      <td>NaN</td>\n",
       "      <td>NaN</td>\n",
       "    </tr>\n",
       "    <tr>\n",
       "      <th>2018-04</th>\n",
       "      <th>WINTER</th>\n",
       "      <td>6988.0</td>\n",
       "      <td>-23.0</td>\n",
       "      <td>NaN</td>\n",
       "    </tr>\n",
       "    <tr>\n",
       "      <th>2018-05</th>\n",
       "      <th>WINTER</th>\n",
       "      <td>6743.0</td>\n",
       "      <td>446.0</td>\n",
       "      <td>NaN</td>\n",
       "    </tr>\n",
       "    <tr>\n",
       "      <th>2018-06</th>\n",
       "      <th>WINTER</th>\n",
       "      <td>4112.0</td>\n",
       "      <td>361.0</td>\n",
       "      <td>NaN</td>\n",
       "    </tr>\n",
       "    <tr>\n",
       "      <th>2018-07</th>\n",
       "      <th>WINTER</th>\n",
       "      <td>5732.0</td>\n",
       "      <td>229.0</td>\n",
       "      <td>NaN</td>\n",
       "    </tr>\n",
       "    <tr>\n",
       "      <th>2018-08</th>\n",
       "      <th>WINTER</th>\n",
       "      <td>NaN</td>\n",
       "      <td>219.0</td>\n",
       "      <td>NaN</td>\n",
       "    </tr>\n",
       "    <tr>\n",
       "      <th>2018-09</th>\n",
       "      <th>SPRING</th>\n",
       "      <td>5559.0</td>\n",
       "      <td>495.0</td>\n",
       "      <td>NaN</td>\n",
       "    </tr>\n",
       "    <tr>\n",
       "      <th>2018-10</th>\n",
       "      <th>SPRING</th>\n",
       "      <td>5381.0</td>\n",
       "      <td>278.0</td>\n",
       "      <td>NaN</td>\n",
       "    </tr>\n",
       "  </tbody>\n",
       "</table>\n",
       "</div>"
      ],
      "text/plain": [
       "SKU              ProductA  ProductB  ProductC\n",
       "ISO_Week Season                              \n",
       "2018-01  WINTER       0.0       NaN       NaN\n",
       "2018-02  WINTER       0.0       NaN       NaN\n",
       "2018-03  WINTER       0.0       NaN       NaN\n",
       "2018-04  WINTER    6988.0     -23.0       NaN\n",
       "2018-05  WINTER    6743.0     446.0       NaN\n",
       "2018-06  WINTER    4112.0     361.0       NaN\n",
       "2018-07  WINTER    5732.0     229.0       NaN\n",
       "2018-08  WINTER       NaN     219.0       NaN\n",
       "2018-09  SPRING    5559.0     495.0       NaN\n",
       "2018-10  SPRING    5381.0     278.0       NaN"
      ]
     },
     "execution_count": 6,
     "metadata": {},
     "output_type": "execute_result"
    }
   ],
   "source": [
    "sales_pivot.head(10)"
   ]
  },
  {
   "cell_type": "code",
   "execution_count": 7,
   "metadata": {},
   "outputs": [],
   "source": [
    "sales_pivot.reset_index(inplace=True)"
   ]
  },
  {
   "cell_type": "code",
   "execution_count": 8,
   "metadata": {},
   "outputs": [
    {
     "data": {
      "text/html": [
       "<div>\n",
       "<style scoped>\n",
       "    .dataframe tbody tr th:only-of-type {\n",
       "        vertical-align: middle;\n",
       "    }\n",
       "\n",
       "    .dataframe tbody tr th {\n",
       "        vertical-align: top;\n",
       "    }\n",
       "\n",
       "    .dataframe thead th {\n",
       "        text-align: right;\n",
       "    }\n",
       "</style>\n",
       "<table border=\"1\" class=\"dataframe\">\n",
       "  <thead>\n",
       "    <tr style=\"text-align: right;\">\n",
       "      <th>SKU</th>\n",
       "      <th>ISO_Week</th>\n",
       "      <th>Season</th>\n",
       "      <th>ProductA</th>\n",
       "      <th>ProductB</th>\n",
       "      <th>ProductC</th>\n",
       "    </tr>\n",
       "  </thead>\n",
       "  <tbody>\n",
       "    <tr>\n",
       "      <th>0</th>\n",
       "      <td>2018-01</td>\n",
       "      <td>WINTER</td>\n",
       "      <td>0.0</td>\n",
       "      <td>NaN</td>\n",
       "      <td>NaN</td>\n",
       "    </tr>\n",
       "    <tr>\n",
       "      <th>1</th>\n",
       "      <td>2018-02</td>\n",
       "      <td>WINTER</td>\n",
       "      <td>0.0</td>\n",
       "      <td>NaN</td>\n",
       "      <td>NaN</td>\n",
       "    </tr>\n",
       "    <tr>\n",
       "      <th>2</th>\n",
       "      <td>2018-03</td>\n",
       "      <td>WINTER</td>\n",
       "      <td>0.0</td>\n",
       "      <td>NaN</td>\n",
       "      <td>NaN</td>\n",
       "    </tr>\n",
       "    <tr>\n",
       "      <th>3</th>\n",
       "      <td>2018-04</td>\n",
       "      <td>WINTER</td>\n",
       "      <td>6988.0</td>\n",
       "      <td>-23.0</td>\n",
       "      <td>NaN</td>\n",
       "    </tr>\n",
       "    <tr>\n",
       "      <th>4</th>\n",
       "      <td>2018-05</td>\n",
       "      <td>WINTER</td>\n",
       "      <td>6743.0</td>\n",
       "      <td>446.0</td>\n",
       "      <td>NaN</td>\n",
       "    </tr>\n",
       "  </tbody>\n",
       "</table>\n",
       "</div>"
      ],
      "text/plain": [
       "SKU ISO_Week  Season  ProductA  ProductB  ProductC\n",
       "0    2018-01  WINTER       0.0       NaN       NaN\n",
       "1    2018-02  WINTER       0.0       NaN       NaN\n",
       "2    2018-03  WINTER       0.0       NaN       NaN\n",
       "3    2018-04  WINTER    6988.0     -23.0       NaN\n",
       "4    2018-05  WINTER    6743.0     446.0       NaN"
      ]
     },
     "execution_count": 8,
     "metadata": {},
     "output_type": "execute_result"
    }
   ],
   "source": [
    "sales_pivot.head(5)"
   ]
  },
  {
   "cell_type": "code",
   "execution_count": 9,
   "metadata": {},
   "outputs": [],
   "source": [
    "sales_pivot['ISO_Week'] = pd.to_datetime(sales_pivot.ISO_Week.add('-1'), format='%Y-%W-%w') \n",
    "sales_pivot['Week_Number'] = pd.to_numeric(sales_pivot['ISO_Week'].dt.day / 7)\n",
    "sales_pivot['Week_Number'] = sales_pivot.Week_Number.apply(lambda x: math.ceil(x))\n",
    "sales_pivot['Week_Sequence'] = pd.to_numeric(sales_pivot['ISO_Week'].dt.week)\n",
    "sales_pivot['Month'] = pd.to_numeric(sales_pivot['ISO_Week'].dt.month)"
   ]
  },
  {
   "cell_type": "code",
   "execution_count": 10,
   "metadata": {},
   "outputs": [],
   "source": [
    "sales_pivot.index = sales_pivot.ISO_Week\n",
    "sales_pivot.drop(columns=['ISO_Week'], inplace=True)"
   ]
  },
  {
   "cell_type": "code",
   "execution_count": 11,
   "metadata": {},
   "outputs": [],
   "source": [
    "sales_pivot['ProductA_Promotion'] = sales_pivot.ProductA.apply(lambda x: x>10000)\n",
    "sales_pivot['ProductC_Promotion'] = sales_pivot.ProductC.apply(lambda x: x>10000)"
   ]
  },
  {
   "cell_type": "code",
   "execution_count": 12,
   "metadata": {},
   "outputs": [],
   "source": [
    "col = sales_pivot.columns.tolist()\n",
    "col.insert(2, col.pop(col.index('ProductA_Promotion')))\n",
    "sales_pivot = sales_pivot[col]"
   ]
  },
  {
   "cell_type": "code",
   "execution_count": 13,
   "metadata": {},
   "outputs": [],
   "source": [
    "col = sales_pivot.columns.tolist()\n",
    "col.insert(5, col.pop(col.index('ProductC_Promotion')))\n",
    "sales_pivot = sales_pivot[col]"
   ]
  },
  {
   "cell_type": "code",
   "execution_count": 14,
   "metadata": {},
   "outputs": [],
   "source": [
    "promotion_map = {True:1, False:0}\n",
    "season_map = {'AUTUMN':0, 'SPRING':1, 'SUMMER':2, 'WINTER':3}"
   ]
  },
  {
   "cell_type": "code",
   "execution_count": 15,
   "metadata": {},
   "outputs": [],
   "source": [
    "sales_pivot['ProductA_Promotion'] = sales_pivot.ProductA_Promotion.map(promotion_map)\n",
    "sales_pivot['ProductC_Promotion'] = sales_pivot.ProductC_Promotion.map(promotion_map)"
   ]
  },
  {
   "cell_type": "code",
   "execution_count": 16,
   "metadata": {},
   "outputs": [
    {
     "data": {
      "text/plain": [
       "Index(['Season', 'ProductA', 'ProductA_Promotion', 'ProductB', 'ProductC',\n",
       "       'ProductC_Promotion', 'Week_Number', 'Week_Sequence', 'Month'],\n",
       "      dtype='object', name='SKU')"
      ]
     },
     "execution_count": 16,
     "metadata": {},
     "output_type": "execute_result"
    }
   ],
   "source": [
    "sales_pivot.columns"
   ]
  },
  {
   "cell_type": "code",
   "execution_count": 17,
   "metadata": {},
   "outputs": [
    {
     "data": {
      "text/plain": [
       "<seaborn.axisgrid.FacetGrid at 0x2712807b240>"
      ]
     },
     "execution_count": 17,
     "metadata": {},
     "output_type": "execute_result"
    },
    {
     "data": {
      "image/png": "[encoded data removed]",
      "text/plain": [
       "<Figure size 469x360 with 1 Axes>"
      ]
     },
     "metadata": {
      "needs_background": "light"
     },
     "output_type": "display_data"
    }
   ],
   "source": [
    "sns.catplot(x='Season', y='ProductA', hue='ProductA_Promotion', kind=\"bar\", data=sales_pivot)"
   ]
  },
  {
   "cell_type": "code",
   "execution_count": 18,
   "metadata": {},
   "outputs": [
    {
     "data": {
      "image/png": "[encoded data removed]",
      "text/plain": [
       "<Figure size 973x360 with 4 Axes>"
      ]
     },
     "metadata": {
      "needs_background": "light"
     },
     "output_type": "display_data"
    }
   ],
   "source": [
    "sns.catplot(x=\"Week_Number\", y=\"ProductA\", hue=\"ProductA_Promotion\",\n",
    "            col=\"Season\", aspect=.6,\n",
    "            kind=\"bar\", data=sales_pivot);"
   ]
  },
  {
   "cell_type": "code",
   "execution_count": 19,
   "metadata": {},
   "outputs": [
    {
     "data": {
      "image/png": "[encoded data removed]",
      "text/plain": [
       "<Figure size 1405x360 with 12 Axes>"
      ]
     },
     "metadata": {
      "needs_background": "light"
     },
     "output_type": "display_data"
    }
   ],
   "source": [
    "sns.catplot(x=\"Week_Number\", y=\"ProductA\", hue=\"ProductA_Promotion\",\n",
    "            col=\"Month\", aspect=.3,\n",
    "            kind=\"bar\", data=sales_pivot);"
   ]
  },
  {
   "cell_type": "code",
   "execution_count": 20,
   "metadata": {},
   "outputs": [],
   "source": [
    "sales_pivot['Season'] = sales_pivot.Season.map(season_map)"
   ]
  },
  {
   "cell_type": "code",
   "execution_count": 21,
   "metadata": {},
   "outputs": [],
   "source": [
    "prod_a = sales_pivot.loc[:, ['Season', 'ProductA', 'ProductA_Promotion', 'Week_Number', 'Week_Sequence','Month']]\n",
    "prod_b = sales_pivot.loc[:, ['Season', 'ProductB', 'Week_Number', 'Week_Sequence', 'Month']]\n",
    "prod_c = sales_pivot.loc['2018-03-18':, ['Season', 'ProductC', 'ProductC_Promotion', 'Week_Number', 'Week_Sequence', 'Month']]"
   ]
  },
  {
   "cell_type": "code",
   "execution_count": 22,
   "metadata": {},
   "outputs": [],
   "source": [
    "prod_a.dropna(inplace=True)\n",
    "prod_b.dropna(inplace=True)\n",
    "prod_c.dropna(inplace=True)"
   ]
  },
  {
   "cell_type": "code",
   "execution_count": 23,
   "metadata": {},
   "outputs": [],
   "source": [
    "import seaborn as sns"
   ]
  },
  {
   "cell_type": "code",
   "execution_count": 24,
   "metadata": {},
   "outputs": [
    {
     "data": {
      "image/png": "[encoded data removed]",
      "text/plain": [
       "<Figure size 469x360 with 1 Axes>"
      ]
     },
     "metadata": {
      "needs_background": "light"
     },
     "output_type": "display_data"
    }
   ],
   "source": [
    "sns.catplot(x=\"Season\", y=\"ProductA\", hue=\"ProductA_Promotion\", kind=\"bar\", data=prod_a, estimator=sum);"
   ]
  },
  {
   "cell_type": "code",
   "execution_count": 25,
   "metadata": {},
   "outputs": [
    {
     "data": {
      "image/png": "[encoded data removed]",
      "text/plain": [
       "<Figure size 469x360 with 1 Axes>"
      ]
     },
     "metadata": {
      "needs_background": "light"
     },
     "output_type": "display_data"
    }
   ],
   "source": [
    "sns.catplot(x=\"Season\", y=\"ProductC\", hue=\"ProductC_Promotion\", kind=\"bar\", data=prod_c, estimator=sum);"
   ]
  },
  {
   "cell_type": "code",
   "execution_count": 26,
   "metadata": {},
   "outputs": [
    {
     "data": {
      "image/png": "[encoded data removed]",
      "text/plain": [
       "<Figure size 360x360 with 1 Axes>"
      ]
     },
     "metadata": {
      "needs_background": "light"
     },
     "output_type": "display_data"
    }
   ],
   "source": [
    "sns.catplot(x=\"Season\", y=\"ProductB\",  kind=\"bar\", data=prod_b, estimator=sum);"
   ]
  },
  {
   "cell_type": "code",
   "execution_count": 27,
   "metadata": {},
   "outputs": [],
   "source": [
    "train_a = prod_a.loc[prod_a['Week_Sequence'] < 42]\n",
    "test_a = prod_a.loc[prod_a['Week_Sequence'] >= 42]\n",
    "\n",
    "train_b = prod_b.loc[prod_b['Week_Sequence'] < 42]\n",
    "test_b = prod_b.loc[prod_b['Week_Sequence'] >= 42]\n",
    "\n",
    "train_c = prod_c.loc[prod_c['Week_Sequence'] < 42]\n",
    "test_c = prod_c.loc[prod_c['Week_Sequence'] >= 42]"
   ]
  },
  {
   "cell_type": "code",
   "execution_count": 28,
   "metadata": {},
   "outputs": [
    {
     "name": "stderr",
     "output_type": "stream",
     "text": [
      "C:\\Users\\Saurav\\Anaconda3\\lib\\site-packages\\pandas\\core\\frame.py:3940: SettingWithCopyWarning: \n",
      "A value is trying to be set on a copy of a slice from a DataFrame\n",
      "\n",
      "See the caveats in the documentation: http://pandas.pydata.org/pandas-docs/stable/indexing.html#indexing-view-versus-copy\n",
      "  errors=errors)\n"
     ]
    }
   ],
   "source": [
    "train_a.drop(train_a[train_a.ProductA == 0].index, inplace=True)\n",
    "train_b.drop(train_b[train_b.ProductB == 0].index, inplace=True)\n",
    "train_c.drop(train_c[train_c.ProductC == 0].index, inplace=True)\n",
    "\n",
    "train_a = train_a.drop(columns=['Week_Sequence'])\n",
    "train_b = train_b.drop(columns=['Week_Sequence'])\n",
    "train_c = train_c.drop(columns=['Week_Sequence'])"
   ]
  },
  {
   "cell_type": "code",
   "execution_count": 29,
   "metadata": {},
   "outputs": [],
   "source": [
    "train = [train_a, train_b, train_c]\n",
    "test = [test_a, test_b, test_c]\n",
    "product = ['ProductA', 'ProductB', 'ProductC']"
   ]
  },
  {
   "cell_type": "code",
   "execution_count": 30,
   "metadata": {},
   "outputs": [],
   "source": [
    "for pos, i in enumerate(train):\n",
    "    \n",
    "    q75, q25 = np.percentile(i.loc[:, product[pos]], [75, 25])\n",
    "    iqr = q75 - q25\n",
    "    minimum = q25 - (iqr*1.5)\n",
    "    maximum = q75 + (iqr*1.5)\n",
    "    i.loc[i[product[pos]] < minimum, product[pos]] = np.nan\n",
    "    i.loc[i[product[pos]] > maximum, product[pos]] = np.nan"
   ]
  },
  {
   "cell_type": "code",
   "execution_count": 31,
   "metadata": {},
   "outputs": [],
   "source": [
    "for i in train:\n",
    "    i.dropna(inplace=True)"
   ]
  },
  {
   "cell_type": "code",
   "execution_count": 32,
   "metadata": {},
   "outputs": [],
   "source": [
    "train_a_y = train_a['ProductA']\n",
    "train_a_X = train_a.drop(columns=['ProductA'])\n",
    "\n",
    "train_b_y = train_b['ProductB']\n",
    "train_b_X = train_b.drop(columns=['ProductB'])\n",
    "\n",
    "train_c_y = train_c['ProductC']\n",
    "train_c_X = train_c.drop(columns=['ProductC'])\n",
    "\n",
    "train_y = [train_a_y, train_b_y, train_c_y]\n",
    "train_X = [train_a_X, train_b_X, train_c_X]"
   ]
  },
  {
   "cell_type": "code",
   "execution_count": 33,
   "metadata": {},
   "outputs": [],
   "source": [
    "for i in test:\n",
    "    i.drop(columns=['Week_Sequence'], inplace=True)"
   ]
  },
  {
   "cell_type": "code",
   "execution_count": 34,
   "metadata": {},
   "outputs": [],
   "source": [
    "test_a_y = test_a['ProductA']\n",
    "test_a_X = test_a.drop(columns=['ProductA'])\n",
    "\n",
    "test_b_y = test_b['ProductB']\n",
    "test_b_X = test_b.drop(columns=['ProductB'])\n",
    "\n",
    "test_c_y = test_c['ProductC']\n",
    "test_c_X = test_c.drop(columns=['ProductC'])\n",
    "\n",
    "test_y = [test_a_y, test_b_y, test_c_y]\n",
    "test_X = [test_a_X, test_b_X, test_c_X]"
   ]
  },
  {
   "cell_type": "code",
   "execution_count": 35,
   "metadata": {},
   "outputs": [],
   "source": [
    "from sklearn.ensemble import RandomForestRegressor"
   ]
  },
  {
   "cell_type": "code",
   "execution_count": 36,
   "metadata": {},
   "outputs": [],
   "source": [
    "model_a = RandomForestRegressor()\n",
    "model_b = RandomForestRegressor()\n",
    "model_c = RandomForestRegressor()\n",
    "model = [model_a, model_b, model_c]"
   ]
  },
  {
   "cell_type": "code",
   "execution_count": 37,
   "metadata": {},
   "outputs": [
    {
     "name": "stderr",
     "output_type": "stream",
     "text": [
      "C:\\Users\\Saurav\\Anaconda3\\lib\\site-packages\\sklearn\\ensemble\\forest.py:246: FutureWarning: The default value of n_estimators will change from 10 in version 0.20 to 100 in 0.22.\n",
      "  \"10 in version 0.20 to 100 in 0.22.\", FutureWarning)\n",
      "C:\\Users\\Saurav\\Anaconda3\\lib\\site-packages\\sklearn\\ensemble\\forest.py:246: FutureWarning: The default value of n_estimators will change from 10 in version 0.20 to 100 in 0.22.\n",
      "  \"10 in version 0.20 to 100 in 0.22.\", FutureWarning)\n",
      "C:\\Users\\Saurav\\Anaconda3\\lib\\site-packages\\sklearn\\ensemble\\forest.py:246: FutureWarning: The default value of n_estimators will change from 10 in version 0.20 to 100 in 0.22.\n",
      "  \"10 in version 0.20 to 100 in 0.22.\", FutureWarning)\n"
     ]
    }
   ],
   "source": [
    "for (i, j, k) in zip(model, train_X, train_y):\n",
    "    \n",
    "    i.fit(j, k)\n",
    "    i.fit(j, k)\n",
    "    i.fit(j, k)"
   ]
  },
  {
   "cell_type": "code",
   "execution_count": 38,
   "metadata": {},
   "outputs": [],
   "source": [
    "pred_a = model_a.predict(test_a_X)\n",
    "pred_b = model_b.predict(test_b_X)\n",
    "pred_c = model_c.predict(test_c_X)\n",
    "\n",
    "pred = [pred_a, pred_b, pred_c]"
   ]
  },
  {
   "cell_type": "code",
   "execution_count": 40,
   "metadata": {},
   "outputs": [],
   "source": [
    "# print(model_a.score(test_a_X, test_a_y))\n",
    "# print(model_b.score(test_b_X, test_b_y))\n",
    "# print(model_c.score(test_c_X, test_c_y))"
   ]
  },
  {
   "cell_type": "code",
   "execution_count": 41,
   "metadata": {},
   "outputs": [],
   "source": [
    "test_a_y = test_a_y.reset_index()\n",
    "test_b_y = test_b_y.reset_index()\n",
    "test_c_y = test_c_y.reset_index()"
   ]
  },
  {
   "cell_type": "code",
   "execution_count": 42,
   "metadata": {},
   "outputs": [],
   "source": [
    "date_intervals = test_a_y['ISO_Week'].dt.strftime('%Y-%W')"
   ]
  },
  {
   "cell_type": "code",
   "execution_count": 43,
   "metadata": {},
   "outputs": [],
   "source": [
    "data_a = {'ISO_Week': date_intervals, 'Forecast':pred_a}\n",
    "data_b = {'ISO_Week': date_intervals, 'Forecast':pred_b}\n",
    "data_c = {'ISO_Week': date_intervals, 'Forecast':pred_c}"
   ]
  },
  {
   "cell_type": "code",
   "execution_count": 44,
   "metadata": {},
   "outputs": [],
   "source": [
    "op_a = pd.DataFrame(data=data_a)\n",
    "op_b = pd.DataFrame(data=data_b)\n",
    "op_c = pd.DataFrame(data=data_c)"
   ]
  },
  {
   "cell_type": "code",
   "execution_count": 45,
   "metadata": {},
   "outputs": [],
   "source": [
    "op_a['SKU'] = 'ProductA'\n",
    "op_b['SKU'] = 'ProductB'\n",
    "op_c['SKU'] = 'ProductC'"
   ]
  },
  {
   "cell_type": "code",
   "execution_count": 46,
   "metadata": {},
   "outputs": [],
   "source": [
    "op_a.index = op_a['SKU']\n",
    "op_a.drop(columns='SKU', inplace=True)\n",
    "\n",
    "op_b.index = op_b['SKU']\n",
    "op_b.drop(columns='SKU', inplace=True)\n",
    "\n",
    "op_c.index = op_c['SKU']\n",
    "op_c.drop(columns='SKU', inplace=True)"
   ]
  },
  {
   "cell_type": "code",
   "execution_count": 47,
   "metadata": {},
   "outputs": [],
   "source": [
    "final_op = pd.concat([op_a, op_b, op_c])"
   ]
  },
  {
   "cell_type": "code",
   "execution_count": 48,
   "metadata": {},
   "outputs": [
    {
     "data": {
      "text/html": [
       "<div>\n",
       "<style scoped>\n",
       "    .dataframe tbody tr th:only-of-type {\n",
       "        vertical-align: middle;\n",
       "    }\n",
       "\n",
       "    .dataframe tbody tr th {\n",
       "        vertical-align: top;\n",
       "    }\n",
       "\n",
       "    .dataframe thead th {\n",
       "        text-align: right;\n",
       "    }\n",
       "</style>\n",
       "<table border=\"1\" class=\"dataframe\">\n",
       "  <thead>\n",
       "    <tr style=\"text-align: right;\">\n",
       "      <th></th>\n",
       "      <th>ISO_Week</th>\n",
       "      <th>Forecast</th>\n",
       "    </tr>\n",
       "    <tr>\n",
       "      <th>SKU</th>\n",
       "      <th></th>\n",
       "      <th></th>\n",
       "    </tr>\n",
       "  </thead>\n",
       "  <tbody>\n",
       "    <tr>\n",
       "      <th>ProductA</th>\n",
       "      <td>2018-42</td>\n",
       "      <td>4877.0</td>\n",
       "    </tr>\n",
       "    <tr>\n",
       "      <th>ProductA</th>\n",
       "      <td>2018-43</td>\n",
       "      <td>5897.5</td>\n",
       "    </tr>\n",
       "    <tr>\n",
       "      <th>ProductA</th>\n",
       "      <td>2018-44</td>\n",
       "      <td>5897.5</td>\n",
       "    </tr>\n",
       "    <tr>\n",
       "      <th>ProductA</th>\n",
       "      <td>2018-45</td>\n",
       "      <td>11222.7</td>\n",
       "    </tr>\n",
       "    <tr>\n",
       "      <th>ProductA</th>\n",
       "      <td>2018-46</td>\n",
       "      <td>5422.9</td>\n",
       "    </tr>\n",
       "    <tr>\n",
       "      <th>ProductA</th>\n",
       "      <td>2018-47</td>\n",
       "      <td>4877.0</td>\n",
       "    </tr>\n",
       "    <tr>\n",
       "      <th>ProductA</th>\n",
       "      <td>2018-48</td>\n",
       "      <td>10733.5</td>\n",
       "    </tr>\n",
       "    <tr>\n",
       "      <th>ProductA</th>\n",
       "      <td>2018-49</td>\n",
       "      <td>11262.6</td>\n",
       "    </tr>\n",
       "    <tr>\n",
       "      <th>ProductA</th>\n",
       "      <td>2018-50</td>\n",
       "      <td>10966.6</td>\n",
       "    </tr>\n",
       "    <tr>\n",
       "      <th>ProductA</th>\n",
       "      <td>2018-51</td>\n",
       "      <td>10786.8</td>\n",
       "    </tr>\n",
       "    <tr>\n",
       "      <th>ProductA</th>\n",
       "      <td>2018-52</td>\n",
       "      <td>10862.3</td>\n",
       "    </tr>\n",
       "    <tr>\n",
       "      <th>ProductB</th>\n",
       "      <td>2018-42</td>\n",
       "      <td>375.8</td>\n",
       "    </tr>\n",
       "    <tr>\n",
       "      <th>ProductB</th>\n",
       "      <td>2018-43</td>\n",
       "      <td>383.1</td>\n",
       "    </tr>\n",
       "    <tr>\n",
       "      <th>ProductB</th>\n",
       "      <td>2018-44</td>\n",
       "      <td>383.1</td>\n",
       "    </tr>\n",
       "    <tr>\n",
       "      <th>ProductB</th>\n",
       "      <td>2018-45</td>\n",
       "      <td>321.8</td>\n",
       "    </tr>\n",
       "    <tr>\n",
       "      <th>ProductB</th>\n",
       "      <td>2018-46</td>\n",
       "      <td>370.3</td>\n",
       "    </tr>\n",
       "    <tr>\n",
       "      <th>ProductB</th>\n",
       "      <td>2018-47</td>\n",
       "      <td>375.8</td>\n",
       "    </tr>\n",
       "    <tr>\n",
       "      <th>ProductB</th>\n",
       "      <td>2018-48</td>\n",
       "      <td>383.1</td>\n",
       "    </tr>\n",
       "    <tr>\n",
       "      <th>ProductB</th>\n",
       "      <td>2018-49</td>\n",
       "      <td>323.4</td>\n",
       "    </tr>\n",
       "    <tr>\n",
       "      <th>ProductB</th>\n",
       "      <td>2018-50</td>\n",
       "      <td>265.5</td>\n",
       "    </tr>\n",
       "    <tr>\n",
       "      <th>ProductB</th>\n",
       "      <td>2018-51</td>\n",
       "      <td>271.2</td>\n",
       "    </tr>\n",
       "    <tr>\n",
       "      <th>ProductB</th>\n",
       "      <td>2018-52</td>\n",
       "      <td>239.7</td>\n",
       "    </tr>\n",
       "    <tr>\n",
       "      <th>ProductC</th>\n",
       "      <td>2018-42</td>\n",
       "      <td>4177.5</td>\n",
       "    </tr>\n",
       "    <tr>\n",
       "      <th>ProductC</th>\n",
       "      <td>2018-43</td>\n",
       "      <td>3263.6</td>\n",
       "    </tr>\n",
       "    <tr>\n",
       "      <th>ProductC</th>\n",
       "      <td>2018-44</td>\n",
       "      <td>1206.6</td>\n",
       "    </tr>\n",
       "    <tr>\n",
       "      <th>ProductC</th>\n",
       "      <td>2018-45</td>\n",
       "      <td>2939.7</td>\n",
       "    </tr>\n",
       "    <tr>\n",
       "      <th>ProductC</th>\n",
       "      <td>2018-46</td>\n",
       "      <td>11793.0</td>\n",
       "    </tr>\n",
       "    <tr>\n",
       "      <th>ProductC</th>\n",
       "      <td>2018-47</td>\n",
       "      <td>11770.8</td>\n",
       "    </tr>\n",
       "    <tr>\n",
       "      <th>ProductC</th>\n",
       "      <td>2018-48</td>\n",
       "      <td>11515.0</td>\n",
       "    </tr>\n",
       "    <tr>\n",
       "      <th>ProductC</th>\n",
       "      <td>2018-49</td>\n",
       "      <td>10883.2</td>\n",
       "    </tr>\n",
       "    <tr>\n",
       "      <th>ProductC</th>\n",
       "      <td>2018-50</td>\n",
       "      <td>11527.2</td>\n",
       "    </tr>\n",
       "    <tr>\n",
       "      <th>ProductC</th>\n",
       "      <td>2018-51</td>\n",
       "      <td>11243.7</td>\n",
       "    </tr>\n",
       "    <tr>\n",
       "      <th>ProductC</th>\n",
       "      <td>2018-52</td>\n",
       "      <td>10816.9</td>\n",
       "    </tr>\n",
       "  </tbody>\n",
       "</table>\n",
       "</div>"
      ],
      "text/plain": [
       "         ISO_Week  Forecast\n",
       "SKU                        \n",
       "ProductA  2018-42    4877.0\n",
       "ProductA  2018-43    5897.5\n",
       "ProductA  2018-44    5897.5\n",
       "ProductA  2018-45   11222.7\n",
       "ProductA  2018-46    5422.9\n",
       "ProductA  2018-47    4877.0\n",
       "ProductA  2018-48   10733.5\n",
       "ProductA  2018-49   11262.6\n",
       "ProductA  2018-50   10966.6\n",
       "ProductA  2018-51   10786.8\n",
       "ProductA  2018-52   10862.3\n",
       "ProductB  2018-42     375.8\n",
       "ProductB  2018-43     383.1\n",
       "ProductB  2018-44     383.1\n",
       "ProductB  2018-45     321.8\n",
       "ProductB  2018-46     370.3\n",
       "ProductB  2018-47     375.8\n",
       "ProductB  2018-48     383.1\n",
       "ProductB  2018-49     323.4\n",
       "ProductB  2018-50     265.5\n",
       "ProductB  2018-51     271.2\n",
       "ProductB  2018-52     239.7\n",
       "ProductC  2018-42    4177.5\n",
       "ProductC  2018-43    3263.6\n",
       "ProductC  2018-44    1206.6\n",
       "ProductC  2018-45    2939.7\n",
       "ProductC  2018-46   11793.0\n",
       "ProductC  2018-47   11770.8\n",
       "ProductC  2018-48   11515.0\n",
       "ProductC  2018-49   10883.2\n",
       "ProductC  2018-50   11527.2\n",
       "ProductC  2018-51   11243.7\n",
       "ProductC  2018-52   10816.9"
      ]
     },
     "execution_count": 48,
     "metadata": {},
     "output_type": "execute_result"
    }
   ],
   "source": [
    "final_op"
   ]
  },
  {
   "cell_type": "code",
   "execution_count": null,
   "metadata": {},
   "outputs": [],
   "source": [
    "final_op.to_excel('Output.xlsx')"
   ]
  },
  {
   "cell_type": "code",
   "execution_count": null,
   "metadata": {},
   "outputs": [],
   "source": []
  },
  {
   "cell_type": "code",
   "execution_count": null,
   "metadata": {},
   "outputs": [],
   "source": [
    "# rolmean = prod_a['ProductA'].rolling(window=4).mean()\n",
    "# rolstd = prod_a['ProductA'].rolling(window=4).std()\n",
    "# plt.figure(figsize=(15,5))\n",
    "# #Plot rolling statistics:\n",
    "# orig = plt.plot(prod_a['ProductA'], color='blue',label='Original')\n",
    "# mean = plt.plot(rolmean, color='red', label='Rolling Mean')\n",
    "# std = plt.plot(rolstd, color='black', label = 'Rolling Std')\n",
    "# plt.legend(loc='best')\n",
    "# plt.title('Rolling Mean & Standard Deviation')\n",
    "# #plt.savefig('Rolling_Statistics.png', bbox_inches='tight')\n",
    "# plt.show(block=False)"
   ]
  },
  {
   "cell_type": "code",
   "execution_count": null,
   "metadata": {},
   "outputs": [],
   "source": [
    "# from statsmodels.tsa.stattools import adfuller\n",
    "# result = adfuller(prod_a_series['ProductA'].values, autolag='AIC')\n",
    "# print('ADF Statistic: %f' % result[0])\n",
    "# print('p-value: %f' % result[1])\n",
    "# print('Critical Values:')\n",
    "# for key, value in result[4].items():\n",
    "# \tprint('\\t%s: %.3f' % (key, value))"
   ]
  }
 ],
 "metadata": {
  "kernelspec": {
   "display_name": "Python 3",
   "language": "python",
   "name": "python3"
  },
  "language_info": {
   "codemirror_mode": {
    "name": "ipython",
    "version": 3
   },
   "file_extension": ".py",
   "mimetype": "text/x-python",
   "name": "python",
   "nbconvert_exporter": "python",
   "pygments_lexer": "ipython3",
   "version": "3.7.3"
  }
 },
 "nbformat": 4,
 "nbformat_minor": 2
}
