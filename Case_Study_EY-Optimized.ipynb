{
 "cells": [
  {
   "cell_type": "markdown",
   "metadata": {},
   "source": [
    "### Importing libraries and data"
   ]
  },
  {
   "cell_type": "code",
   "execution_count": 1,
   "metadata": {},
   "outputs": [],
   "source": [
    "import os\n",
    "import pandas as pd\n",
    "import numpy as np\n",
    "import math\n",
    "from math import sqrt\n",
    "import matplotlib.pyplot as plt\n",
    "import seaborn as sns\n",
    "from sklearn.metrics import mean_absolute_error, r2_score, mean_squared_error\n",
    "%matplotlib inline"
   ]
  },
  {
   "cell_type": "code",
   "execution_count": 2,
   "metadata": {},
   "outputs": [],
   "source": [
    "base_path = os.path.abspath('../../')\n",
    "directory = os.path.join(base_path, 'Downloads/take_home_data_science_challenge')"
   ]
  },
  {
   "cell_type": "code",
   "execution_count": 3,
   "metadata": {},
   "outputs": [],
   "source": [
    "sales = pd.read_excel(os.path.join(directory, 'case_study.xlsx'), index_col='ISO_Week', parse_dates=True)"
   ]
  },
  {
   "cell_type": "code",
   "execution_count": 4,
   "metadata": {},
   "outputs": [
    {
     "data": {
      "text/html": [
       "<div>\n",
       "<style scoped>\n",
       "    .dataframe tbody tr th:only-of-type {\n",
       "        vertical-align: middle;\n",
       "    }\n",
       "\n",
       "    .dataframe tbody tr th {\n",
       "        vertical-align: top;\n",
       "    }\n",
       "\n",
       "    .dataframe thead th {\n",
       "        text-align: right;\n",
       "    }\n",
       "</style>\n",
       "<table border=\"1\" class=\"dataframe\">\n",
       "  <thead>\n",
       "    <tr style=\"text-align: right;\">\n",
       "      <th></th>\n",
       "      <th>SKU</th>\n",
       "      <th>Sales</th>\n",
       "      <th>Season</th>\n",
       "    </tr>\n",
       "    <tr>\n",
       "      <th>ISO_Week</th>\n",
       "      <th></th>\n",
       "      <th></th>\n",
       "      <th></th>\n",
       "    </tr>\n",
       "  </thead>\n",
       "  <tbody>\n",
       "    <tr>\n",
       "      <th>2018-01</th>\n",
       "      <td>ProductA</td>\n",
       "      <td>0.0</td>\n",
       "      <td>WINTER</td>\n",
       "    </tr>\n",
       "    <tr>\n",
       "      <th>2018-02</th>\n",
       "      <td>ProductA</td>\n",
       "      <td>0.0</td>\n",
       "      <td>WINTER</td>\n",
       "    </tr>\n",
       "    <tr>\n",
       "      <th>2018-03</th>\n",
       "      <td>ProductA</td>\n",
       "      <td>0.0</td>\n",
       "      <td>WINTER</td>\n",
       "    </tr>\n",
       "    <tr>\n",
       "      <th>2018-04</th>\n",
       "      <td>ProductA</td>\n",
       "      <td>6988.0</td>\n",
       "      <td>WINTER</td>\n",
       "    </tr>\n",
       "    <tr>\n",
       "      <th>2018-04</th>\n",
       "      <td>ProductA</td>\n",
       "      <td>6988.0</td>\n",
       "      <td>WINTER</td>\n",
       "    </tr>\n",
       "  </tbody>\n",
       "</table>\n",
       "</div>"
      ],
      "text/plain": [
       "               SKU   Sales  Season\n",
       "ISO_Week                          \n",
       "2018-01   ProductA     0.0  WINTER\n",
       "2018-02   ProductA     0.0  WINTER\n",
       "2018-03   ProductA     0.0  WINTER\n",
       "2018-04   ProductA  6988.0  WINTER\n",
       "2018-04   ProductA  6988.0  WINTER"
      ]
     },
     "execution_count": 4,
     "metadata": {},
     "output_type": "execute_result"
    }
   ],
   "source": [
    "sales.head(5)"
   ]
  },
  {
   "cell_type": "markdown",
   "metadata": {},
   "source": [
    "### Data Preprocessing and Feature Engineering"
   ]
  },
  {
   "cell_type": "code",
   "execution_count": 5,
   "metadata": {},
   "outputs": [],
   "source": [
    "sales_pivot = pd.pivot_table(sales, values = 'Sales', index=['ISO_Week','Season'], columns = ['SKU'])"
   ]
  },
  {
   "cell_type": "code",
   "execution_count": 6,
   "metadata": {},
   "outputs": [
    {
     "data": {
      "text/html": [
       "<div>\n",
       "<style scoped>\n",
       "    .dataframe tbody tr th:only-of-type {\n",
       "        vertical-align: middle;\n",
       "    }\n",
       "\n",
       "    .dataframe tbody tr th {\n",
       "        vertical-align: top;\n",
       "    }\n",
       "\n",
       "    .dataframe thead th {\n",
       "        text-align: right;\n",
       "    }\n",
       "</style>\n",
       "<table border=\"1\" class=\"dataframe\">\n",
       "  <thead>\n",
       "    <tr style=\"text-align: right;\">\n",
       "      <th></th>\n",
       "      <th>SKU</th>\n",
       "      <th>ProductA</th>\n",
       "      <th>ProductB</th>\n",
       "      <th>ProductC</th>\n",
       "    </tr>\n",
       "    <tr>\n",
       "      <th>ISO_Week</th>\n",
       "      <th>Season</th>\n",
       "      <th></th>\n",
       "      <th></th>\n",
       "      <th></th>\n",
       "    </tr>\n",
       "  </thead>\n",
       "  <tbody>\n",
       "    <tr>\n",
       "      <th>2018-01</th>\n",
       "      <th>WINTER</th>\n",
       "      <td>0.0</td>\n",
       "      <td>NaN</td>\n",
       "      <td>NaN</td>\n",
       "    </tr>\n",
       "    <tr>\n",
       "      <th>2018-02</th>\n",
       "      <th>WINTER</th>\n",
       "      <td>0.0</td>\n",
       "      <td>NaN</td>\n",
       "      <td>NaN</td>\n",
       "    </tr>\n",
       "    <tr>\n",
       "      <th>2018-03</th>\n",
       "      <th>WINTER</th>\n",
       "      <td>0.0</td>\n",
       "      <td>NaN</td>\n",
       "      <td>NaN</td>\n",
       "    </tr>\n",
       "    <tr>\n",
       "      <th>2018-04</th>\n",
       "      <th>WINTER</th>\n",
       "      <td>6988.0</td>\n",
       "      <td>-23.0</td>\n",
       "      <td>NaN</td>\n",
       "    </tr>\n",
       "    <tr>\n",
       "      <th>2018-05</th>\n",
       "      <th>WINTER</th>\n",
       "      <td>6743.0</td>\n",
       "      <td>446.0</td>\n",
       "      <td>NaN</td>\n",
       "    </tr>\n",
       "    <tr>\n",
       "      <th>2018-06</th>\n",
       "      <th>WINTER</th>\n",
       "      <td>4112.0</td>\n",
       "      <td>361.0</td>\n",
       "      <td>NaN</td>\n",
       "    </tr>\n",
       "    <tr>\n",
       "      <th>2018-07</th>\n",
       "      <th>WINTER</th>\n",
       "      <td>5732.0</td>\n",
       "      <td>229.0</td>\n",
       "      <td>NaN</td>\n",
       "    </tr>\n",
       "    <tr>\n",
       "      <th>2018-08</th>\n",
       "      <th>WINTER</th>\n",
       "      <td>NaN</td>\n",
       "      <td>219.0</td>\n",
       "      <td>NaN</td>\n",
       "    </tr>\n",
       "    <tr>\n",
       "      <th>2018-09</th>\n",
       "      <th>SPRING</th>\n",
       "      <td>5559.0</td>\n",
       "      <td>495.0</td>\n",
       "      <td>NaN</td>\n",
       "    </tr>\n",
       "    <tr>\n",
       "      <th>2018-10</th>\n",
       "      <th>SPRING</th>\n",
       "      <td>5381.0</td>\n",
       "      <td>278.0</td>\n",
       "      <td>NaN</td>\n",
       "    </tr>\n",
       "  </tbody>\n",
       "</table>\n",
       "</div>"
      ],
      "text/plain": [
       "SKU              ProductA  ProductB  ProductC\n",
       "ISO_Week Season                              \n",
       "2018-01  WINTER       0.0       NaN       NaN\n",
       "2018-02  WINTER       0.0       NaN       NaN\n",
       "2018-03  WINTER       0.0       NaN       NaN\n",
       "2018-04  WINTER    6988.0     -23.0       NaN\n",
       "2018-05  WINTER    6743.0     446.0       NaN\n",
       "2018-06  WINTER    4112.0     361.0       NaN\n",
       "2018-07  WINTER    5732.0     229.0       NaN\n",
       "2018-08  WINTER       NaN     219.0       NaN\n",
       "2018-09  SPRING    5559.0     495.0       NaN\n",
       "2018-10  SPRING    5381.0     278.0       NaN"
      ]
     },
     "execution_count": 6,
     "metadata": {},
     "output_type": "execute_result"
    }
   ],
   "source": [
    "sales_pivot.head(10)"
   ]
  },
  {
   "cell_type": "code",
   "execution_count": 7,
   "metadata": {},
   "outputs": [],
   "source": [
    "sales_pivot.reset_index(inplace=True)"
   ]
  },
  {
   "cell_type": "code",
   "execution_count": 8,
   "metadata": {},
   "outputs": [
    {
     "data": {
      "text/html": [
       "<div>\n",
       "<style scoped>\n",
       "    .dataframe tbody tr th:only-of-type {\n",
       "        vertical-align: middle;\n",
       "    }\n",
       "\n",
       "    .dataframe tbody tr th {\n",
       "        vertical-align: top;\n",
       "    }\n",
       "\n",
       "    .dataframe thead th {\n",
       "        text-align: right;\n",
       "    }\n",
       "</style>\n",
       "<table border=\"1\" class=\"dataframe\">\n",
       "  <thead>\n",
       "    <tr style=\"text-align: right;\">\n",
       "      <th>SKU</th>\n",
       "      <th>ISO_Week</th>\n",
       "      <th>Season</th>\n",
       "      <th>ProductA</th>\n",
       "      <th>ProductB</th>\n",
       "      <th>ProductC</th>\n",
       "    </tr>\n",
       "  </thead>\n",
       "  <tbody>\n",
       "    <tr>\n",
       "      <th>0</th>\n",
       "      <td>2018-01</td>\n",
       "      <td>WINTER</td>\n",
       "      <td>0.0</td>\n",
       "      <td>NaN</td>\n",
       "      <td>NaN</td>\n",
       "    </tr>\n",
       "    <tr>\n",
       "      <th>1</th>\n",
       "      <td>2018-02</td>\n",
       "      <td>WINTER</td>\n",
       "      <td>0.0</td>\n",
       "      <td>NaN</td>\n",
       "      <td>NaN</td>\n",
       "    </tr>\n",
       "    <tr>\n",
       "      <th>2</th>\n",
       "      <td>2018-03</td>\n",
       "      <td>WINTER</td>\n",
       "      <td>0.0</td>\n",
       "      <td>NaN</td>\n",
       "      <td>NaN</td>\n",
       "    </tr>\n",
       "    <tr>\n",
       "      <th>3</th>\n",
       "      <td>2018-04</td>\n",
       "      <td>WINTER</td>\n",
       "      <td>6988.0</td>\n",
       "      <td>-23.0</td>\n",
       "      <td>NaN</td>\n",
       "    </tr>\n",
       "    <tr>\n",
       "      <th>4</th>\n",
       "      <td>2018-05</td>\n",
       "      <td>WINTER</td>\n",
       "      <td>6743.0</td>\n",
       "      <td>446.0</td>\n",
       "      <td>NaN</td>\n",
       "    </tr>\n",
       "  </tbody>\n",
       "</table>\n",
       "</div>"
      ],
      "text/plain": [
       "SKU ISO_Week  Season  ProductA  ProductB  ProductC\n",
       "0    2018-01  WINTER       0.0       NaN       NaN\n",
       "1    2018-02  WINTER       0.0       NaN       NaN\n",
       "2    2018-03  WINTER       0.0       NaN       NaN\n",
       "3    2018-04  WINTER    6988.0     -23.0       NaN\n",
       "4    2018-05  WINTER    6743.0     446.0       NaN"
      ]
     },
     "execution_count": 8,
     "metadata": {},
     "output_type": "execute_result"
    }
   ],
   "source": [
    "sales_pivot.head(5)"
   ]
  },
  {
   "cell_type": "markdown",
   "metadata": {},
   "source": [
    "> Generating **Week_Number, Week_Sequence and Month** to provide additional information to the data"
   ]
  },
  {
   "cell_type": "code",
   "execution_count": 9,
   "metadata": {},
   "outputs": [],
   "source": [
    "sales_pivot['ISO_Week'] = pd.to_datetime(sales_pivot.ISO_Week.add('-1'), format='%Y-%W-%w') \n",
    "sales_pivot['Week_Number'] = pd.to_numeric(sales_pivot['ISO_Week'].dt.day / 7)\n",
    "sales_pivot['Week_Number'] = sales_pivot.Week_Number.apply(lambda x: math.ceil(x))\n",
    "sales_pivot['Week_Sequence'] = pd.to_numeric(sales_pivot['ISO_Week'].dt.week)\n",
    "sales_pivot['Month'] = pd.to_numeric(sales_pivot['ISO_Week'].dt.month)"
   ]
  },
  {
   "cell_type": "code",
   "execution_count": 10,
   "metadata": {},
   "outputs": [],
   "source": [
    "sales_pivot.set_index('ISO_Week', inplace=True)"
   ]
  },
  {
   "cell_type": "code",
   "execution_count": 11,
   "metadata": {},
   "outputs": [],
   "source": [
    "sales_pivot['ProductA_Promotion'] = sales_pivot.ProductA.apply(lambda x: x>10000)\n",
    "sales_pivot['ProductC_Promotion'] = sales_pivot.ProductC.apply(lambda x: x>10000)"
   ]
  },
  {
   "cell_type": "code",
   "execution_count": 12,
   "metadata": {},
   "outputs": [],
   "source": [
    "col = sales_pivot.columns.tolist()\n",
    "col.insert(2, col.pop(col.index('ProductA_Promotion')))\n",
    "sales_pivot = sales_pivot[col]"
   ]
  },
  {
   "cell_type": "code",
   "execution_count": 13,
   "metadata": {},
   "outputs": [],
   "source": [
    "col = sales_pivot.columns.tolist()\n",
    "col.insert(5, col.pop(col.index('ProductC_Promotion')))\n",
    "sales_pivot = sales_pivot[col]"
   ]
  },
  {
   "cell_type": "code",
   "execution_count": 14,
   "metadata": {},
   "outputs": [],
   "source": [
    "promotion_map = {True:1, False:0} \n",
    "season_map = {'AUTUMN':0, 'SPRING':1, 'SUMMER':2, 'WINTER':3}"
   ]
  },
  {
   "cell_type": "code",
   "execution_count": 15,
   "metadata": {},
   "outputs": [],
   "source": [
    "sales_pivot['ProductA_Promotion'] = sales_pivot.ProductA_Promotion.map(promotion_map)\n",
    "sales_pivot['ProductC_Promotion'] = sales_pivot.ProductC_Promotion.map(promotion_map)"
   ]
  },
  {
   "cell_type": "markdown",
   "metadata": {},
   "source": [
    "### Exploratory Data Analysis"
   ]
  },
  {
   "cell_type": "code",
   "execution_count": 16,
   "metadata": {},
   "outputs": [
    {
     "name": "stdout",
     "output_type": "stream",
     "text": [
      "<class 'pandas.core.frame.DataFrame'>\n",
      "DatetimeIndex: 52 entries, 2018-01-01 to 2018-12-24\n",
      "Data columns (total 9 columns):\n",
      "Season                52 non-null object\n",
      "ProductA              48 non-null float64\n",
      "ProductA_Promotion    52 non-null int64\n",
      "ProductB              49 non-null float64\n",
      "ProductC              42 non-null float64\n",
      "ProductC_Promotion    52 non-null int64\n",
      "Week_Number           52 non-null int64\n",
      "Week_Sequence         52 non-null int64\n",
      "Month                 52 non-null int64\n",
      "dtypes: float64(3), int64(5), object(1)\n",
      "memory usage: 4.1+ KB\n"
     ]
    }
   ],
   "source": [
    "sales_pivot.info()"
   ]
  },
  {
   "cell_type": "code",
   "execution_count": 17,
   "metadata": {},
   "outputs": [
    {
     "data": {
      "text/html": [
       "<div>\n",
       "<style scoped>\n",
       "    .dataframe tbody tr th:only-of-type {\n",
       "        vertical-align: middle;\n",
       "    }\n",
       "\n",
       "    .dataframe tbody tr th {\n",
       "        vertical-align: top;\n",
       "    }\n",
       "\n",
       "    .dataframe thead th {\n",
       "        text-align: right;\n",
       "    }\n",
       "</style>\n",
       "<table border=\"1\" class=\"dataframe\">\n",
       "  <thead>\n",
       "    <tr style=\"text-align: right;\">\n",
       "      <th>SKU</th>\n",
       "      <th>ProductA</th>\n",
       "      <th>ProductA_Promotion</th>\n",
       "      <th>ProductB</th>\n",
       "      <th>ProductC</th>\n",
       "      <th>ProductC_Promotion</th>\n",
       "      <th>Week_Number</th>\n",
       "      <th>Week_Sequence</th>\n",
       "      <th>Month</th>\n",
       "    </tr>\n",
       "  </thead>\n",
       "  <tbody>\n",
       "    <tr>\n",
       "      <th>count</th>\n",
       "      <td>48.000000</td>\n",
       "      <td>52.000000</td>\n",
       "      <td>49.000000</td>\n",
       "      <td>42.000000</td>\n",
       "      <td>52.000000</td>\n",
       "      <td>52.000000</td>\n",
       "      <td>52.000000</td>\n",
       "      <td>52.000000</td>\n",
       "    </tr>\n",
       "    <tr>\n",
       "      <th>mean</th>\n",
       "      <td>7039.916667</td>\n",
       "      <td>0.326923</td>\n",
       "      <td>207.408163</td>\n",
       "      <td>9147.071429</td>\n",
       "      <td>0.461538</td>\n",
       "      <td>2.692308</td>\n",
       "      <td>26.500000</td>\n",
       "      <td>6.423077</td>\n",
       "    </tr>\n",
       "    <tr>\n",
       "      <th>std</th>\n",
       "      <td>3771.652794</td>\n",
       "      <td>0.473665</td>\n",
       "      <td>199.968218</td>\n",
       "      <td>8072.895417</td>\n",
       "      <td>0.503382</td>\n",
       "      <td>1.276307</td>\n",
       "      <td>15.154757</td>\n",
       "      <td>3.488615</td>\n",
       "    </tr>\n",
       "    <tr>\n",
       "      <th>min</th>\n",
       "      <td>0.000000</td>\n",
       "      <td>0.000000</td>\n",
       "      <td>-50.000000</td>\n",
       "      <td>-163.000000</td>\n",
       "      <td>0.000000</td>\n",
       "      <td>1.000000</td>\n",
       "      <td>1.000000</td>\n",
       "      <td>1.000000</td>\n",
       "    </tr>\n",
       "    <tr>\n",
       "      <th>25%</th>\n",
       "      <td>4519.500000</td>\n",
       "      <td>0.000000</td>\n",
       "      <td>0.000000</td>\n",
       "      <td>4414.750000</td>\n",
       "      <td>0.000000</td>\n",
       "      <td>2.000000</td>\n",
       "      <td>13.750000</td>\n",
       "      <td>3.750000</td>\n",
       "    </tr>\n",
       "    <tr>\n",
       "      <th>50%</th>\n",
       "      <td>6478.500000</td>\n",
       "      <td>0.000000</td>\n",
       "      <td>240.000000</td>\n",
       "      <td>10191.500000</td>\n",
       "      <td>0.000000</td>\n",
       "      <td>3.000000</td>\n",
       "      <td>26.500000</td>\n",
       "      <td>6.500000</td>\n",
       "    </tr>\n",
       "    <tr>\n",
       "      <th>75%</th>\n",
       "      <td>10425.000000</td>\n",
       "      <td>1.000000</td>\n",
       "      <td>385.000000</td>\n",
       "      <td>11592.000000</td>\n",
       "      <td>1.000000</td>\n",
       "      <td>4.000000</td>\n",
       "      <td>39.250000</td>\n",
       "      <td>9.250000</td>\n",
       "    </tr>\n",
       "    <tr>\n",
       "      <th>max</th>\n",
       "      <td>14853.000000</td>\n",
       "      <td>1.000000</td>\n",
       "      <td>495.000000</td>\n",
       "      <td>52524.000000</td>\n",
       "      <td>1.000000</td>\n",
       "      <td>5.000000</td>\n",
       "      <td>52.000000</td>\n",
       "      <td>12.000000</td>\n",
       "    </tr>\n",
       "  </tbody>\n",
       "</table>\n",
       "</div>"
      ],
      "text/plain": [
       "SKU        ProductA  ProductA_Promotion    ProductB      ProductC  \\\n",
       "count     48.000000           52.000000   49.000000     42.000000   \n",
       "mean    7039.916667            0.326923  207.408163   9147.071429   \n",
       "std     3771.652794            0.473665  199.968218   8072.895417   \n",
       "min        0.000000            0.000000  -50.000000   -163.000000   \n",
       "25%     4519.500000            0.000000    0.000000   4414.750000   \n",
       "50%     6478.500000            0.000000  240.000000  10191.500000   \n",
       "75%    10425.000000            1.000000  385.000000  11592.000000   \n",
       "max    14853.000000            1.000000  495.000000  52524.000000   \n",
       "\n",
       "SKU    ProductC_Promotion  Week_Number  Week_Sequence      Month  \n",
       "count           52.000000    52.000000      52.000000  52.000000  \n",
       "mean             0.461538     2.692308      26.500000   6.423077  \n",
       "std              0.503382     1.276307      15.154757   3.488615  \n",
       "min              0.000000     1.000000       1.000000   1.000000  \n",
       "25%              0.000000     2.000000      13.750000   3.750000  \n",
       "50%              0.000000     3.000000      26.500000   6.500000  \n",
       "75%              1.000000     4.000000      39.250000   9.250000  \n",
       "max              1.000000     5.000000      52.000000  12.000000  "
      ]
     },
     "execution_count": 17,
     "metadata": {},
     "output_type": "execute_result"
    }
   ],
   "source": [
    "sales_pivot.describe()"
   ]
  },
  {
   "cell_type": "code",
   "execution_count": 18,
   "metadata": {},
   "outputs": [
    {
     "name": "stderr",
     "output_type": "stream",
     "text": [
      "C:\\Users\\Saurav\\Anaconda3\\lib\\site-packages\\statsmodels\\nonparametric\\kde.py:448: RuntimeWarning: invalid value encountered in greater\n",
      "  X = X[np.logical_and(X > clip[0], X < clip[1])] # won't work for two columns.\n",
      "C:\\Users\\Saurav\\Anaconda3\\lib\\site-packages\\statsmodels\\nonparametric\\kde.py:448: RuntimeWarning: invalid value encountered in less\n",
      "  X = X[np.logical_and(X > clip[0], X < clip[1])] # won't work for two columns.\n"
     ]
    },
    {
     "data": {
      "text/plain": [
       "Text(0.5, 1.0, 'KDE Plot')"
      ]
     },
     "execution_count": 18,
     "metadata": {},
     "output_type": "execute_result"
    },
    {
     "data": {
      "image/png": "[encoded data removed]",
      "text/plain": [
       "<Figure size 1080x720 with 3 Axes>"
      ]
     },
     "metadata": {
      "needs_background": "light"
     },
     "output_type": "display_data"
    }
   ],
   "source": [
    "fig = plt.figure()\n",
    "fig.subplots_adjust(hspace=0.4, wspace=0.2)\n",
    "fig.set_figheight(10)\n",
    "fig.set_figwidth(15)\n",
    "\n",
    "ax1 = fig.add_subplot(2, 2, 1)\n",
    "ax1 = sns.distplot(sales_pivot['ProductA'], rug=True, hist=False)\n",
    "ax1.set_xlabel('ProductA Sales')  \n",
    "ax1.set_ylabel('Distribution') \n",
    "ax1.set_title(\"KDE Plot\") \n",
    "\n",
    "ax2 = fig.add_subplot(2, 2, 2)\n",
    "ax2 = sns.distplot(sales_pivot['ProductB'], rug=True, hist=False)\n",
    "ax2.set_xlabel('ProductB Sales')  \n",
    "ax2.set_ylabel('Distribution') \n",
    "ax2.set_title(\"KDE Plot\") \n",
    "\n",
    "ax3 = fig.add_subplot(2, 2, 3)\n",
    "ax3 = sns.distplot(sales_pivot['ProductC'], rug=True, hist=False)\n",
    "ax3.set_xlabel('ProductC Sales')  \n",
    "ax3.set_ylabel('Distribution') \n",
    "ax3.set_title(\"KDE Plot\") \n"
   ]
  },
  {
   "cell_type": "markdown",
   "metadata": {},
   "source": [
    "**Avg Sales for 3 SKUs over time**"
   ]
  },
  {
   "cell_type": "code",
   "execution_count": 19,
   "metadata": {},
   "outputs": [
    {
     "data": {
      "text/plain": [
       "<matplotlib.axes._subplots.AxesSubplot at 0x20e9d25cb70>"
      ]
     },
     "execution_count": 19,
     "metadata": {},
     "output_type": "execute_result"
    },
    {
     "data": {
      "image/png": "[encoded data removed]",
      "text/plain": [
       "<Figure size 1080x360 with 1 Axes>"
      ]
     },
     "metadata": {
      "needs_background": "light"
     },
     "output_type": "display_data"
    }
   ],
   "source": [
    "temp = sales_pivot.groupby(['Month'])['ProductA', 'ProductB', 'ProductC'].mean()\n",
    "temp.plot(figsize=(15,5), title= 'Sales Count(Mean Monthwise)', fontsize=14)"
   ]
  },
  {
   "cell_type": "markdown",
   "metadata": {},
   "source": [
    "**Sum Promotion Frequency over Time** "
   ]
  },
  {
   "cell_type": "code",
   "execution_count": 20,
   "metadata": {},
   "outputs": [
    {
     "data": {
      "text/plain": [
       "<matplotlib.axes._subplots.AxesSubplot at 0x20e9cf20ac8>"
      ]
     },
     "execution_count": 20,
     "metadata": {},
     "output_type": "execute_result"
    },
    {
     "data": {
      "image/png": "[encoded data removed]",
      "text/plain": [
       "<Figure size 1080x360 with 1 Axes>"
      ]
     },
     "metadata": {
      "needs_background": "light"
     },
     "output_type": "display_data"
    }
   ],
   "source": [
    "temp = sales_pivot.groupby(['Month'])['ProductA_Promotion', 'ProductC_Promotion'].sum()\n",
    "temp.plot(figsize=(15,5), title= 'Promotion Count(Monthwise)', fontsize=14)"
   ]
  },
  {
   "cell_type": "markdown",
   "metadata": {},
   "source": [
    "**SKUA Product Sales VS Season** "
   ]
  },
  {
   "cell_type": "code",
   "execution_count": 21,
   "metadata": {},
   "outputs": [
    {
     "data": {
      "text/plain": [
       "<seaborn.axisgrid.FacetGrid at 0x20e9cf20470>"
      ]
     },
     "execution_count": 21,
     "metadata": {},
     "output_type": "execute_result"
    },
    {
     "data": {
      "image/png": "[encoded data removed]",
      "text/plain": [
       "<Figure size 469x360 with 1 Axes>"
      ]
     },
     "metadata": {
      "needs_background": "light"
     },
     "output_type": "display_data"
    }
   ],
   "source": [
    "sns.catplot(x='Season', y='ProductA', hue='ProductA_Promotion', kind=\"bar\", data=sales_pivot)"
   ]
  },
  {
   "cell_type": "markdown",
   "metadata": {},
   "source": [
    "**SKUA Product Sales VS Week_Number VS Season** "
   ]
  },
  {
   "cell_type": "code",
   "execution_count": 22,
   "metadata": {},
   "outputs": [
    {
     "data": {
      "image/png": "[encoded data removed]",
      "text/plain": [
       "<Figure size 973x360 with 4 Axes>"
      ]
     },
     "metadata": {
      "needs_background": "light"
     },
     "output_type": "display_data"
    }
   ],
   "source": [
    "sns.catplot(x=\"Week_Number\", y=\"ProductA\", hue=\"ProductA_Promotion\",\n",
    "            col=\"Season\", aspect=.6,\n",
    "            kind=\"bar\", data=sales_pivot);"
   ]
  },
  {
   "cell_type": "markdown",
   "metadata": {},
   "source": [
    "**SKUB Product Sales VS Season** "
   ]
  },
  {
   "cell_type": "code",
   "execution_count": 23,
   "metadata": {},
   "outputs": [
    {
     "data": {
      "text/plain": [
       "<seaborn.axisgrid.FacetGrid at 0x20e9ca05860>"
      ]
     },
     "execution_count": 23,
     "metadata": {},
     "output_type": "execute_result"
    },
    {
     "data": {
      "image/png": "[encoded data removed]",
      "text/plain": [
       "<Figure size 360x360 with 1 Axes>"
      ]
     },
     "metadata": {
      "needs_background": "light"
     },
     "output_type": "display_data"
    }
   ],
   "source": [
    "sns.catplot(x='Season', y='ProductB', kind=\"bar\", data=sales_pivot)"
   ]
  },
  {
   "cell_type": "markdown",
   "metadata": {},
   "source": [
    "**SKUC Product Sales VS Season** "
   ]
  },
  {
   "cell_type": "code",
   "execution_count": 24,
   "metadata": {},
   "outputs": [
    {
     "data": {
      "text/plain": [
       "<seaborn.axisgrid.FacetGrid at 0x20e9d8a7080>"
      ]
     },
     "execution_count": 24,
     "metadata": {},
     "output_type": "execute_result"
    },
    {
     "data": {
      "image/png": "[encoded data removed]",
      "text/plain": [
       "<Figure size 469x360 with 1 Axes>"
      ]
     },
     "metadata": {
      "needs_background": "light"
     },
     "output_type": "display_data"
    }
   ],
   "source": [
    "sns.catplot(x='Season', y='ProductC', hue='ProductC_Promotion', kind=\"bar\", data=sales_pivot)"
   ]
  },
  {
   "cell_type": "markdown",
   "metadata": {},
   "source": [
    "**SKUC Product Sales VS Week_Number VS Season** "
   ]
  },
  {
   "cell_type": "code",
   "execution_count": 25,
   "metadata": {},
   "outputs": [
    {
     "data": {
      "image/png": "[encoded data removed]",
      "text/plain": [
       "<Figure size 973x360 with 4 Axes>"
      ]
     },
     "metadata": {
      "needs_background": "light"
     },
     "output_type": "display_data"
    }
   ],
   "source": [
    "sns.catplot(x=\"Week_Number\", y=\"ProductC\", hue=\"ProductC_Promotion\",\n",
    "            col=\"Season\", aspect=.6,\n",
    "            kind=\"bar\", data=sales_pivot);"
   ]
  },
  {
   "cell_type": "code",
   "execution_count": 26,
   "metadata": {},
   "outputs": [],
   "source": [
    "sales_pivot['Season'] = sales_pivot.Season.map(season_map)"
   ]
  },
  {
   "cell_type": "code",
   "execution_count": 27,
   "metadata": {},
   "outputs": [
    {
     "data": {
      "text/html": [
       "<div>\n",
       "<style scoped>\n",
       "    .dataframe tbody tr th:only-of-type {\n",
       "        vertical-align: middle;\n",
       "    }\n",
       "\n",
       "    .dataframe tbody tr th {\n",
       "        vertical-align: top;\n",
       "    }\n",
       "\n",
       "    .dataframe thead th {\n",
       "        text-align: right;\n",
       "    }\n",
       "</style>\n",
       "<table border=\"1\" class=\"dataframe\">\n",
       "  <thead>\n",
       "    <tr style=\"text-align: right;\">\n",
       "      <th>SKU</th>\n",
       "      <th>Season</th>\n",
       "      <th>ProductA</th>\n",
       "      <th>ProductA_Promotion</th>\n",
       "      <th>ProductB</th>\n",
       "      <th>ProductC</th>\n",
       "      <th>ProductC_Promotion</th>\n",
       "      <th>Week_Number</th>\n",
       "      <th>Week_Sequence</th>\n",
       "      <th>Month</th>\n",
       "    </tr>\n",
       "    <tr>\n",
       "      <th>ISO_Week</th>\n",
       "      <th></th>\n",
       "      <th></th>\n",
       "      <th></th>\n",
       "      <th></th>\n",
       "      <th></th>\n",
       "      <th></th>\n",
       "      <th></th>\n",
       "      <th></th>\n",
       "      <th></th>\n",
       "    </tr>\n",
       "  </thead>\n",
       "  <tbody>\n",
       "    <tr>\n",
       "      <th>2018-01-01</th>\n",
       "      <td>3</td>\n",
       "      <td>0.0</td>\n",
       "      <td>0</td>\n",
       "      <td>NaN</td>\n",
       "      <td>NaN</td>\n",
       "      <td>0</td>\n",
       "      <td>1</td>\n",
       "      <td>1</td>\n",
       "      <td>1</td>\n",
       "    </tr>\n",
       "    <tr>\n",
       "      <th>2018-01-08</th>\n",
       "      <td>3</td>\n",
       "      <td>0.0</td>\n",
       "      <td>0</td>\n",
       "      <td>NaN</td>\n",
       "      <td>NaN</td>\n",
       "      <td>0</td>\n",
       "      <td>2</td>\n",
       "      <td>2</td>\n",
       "      <td>1</td>\n",
       "    </tr>\n",
       "    <tr>\n",
       "      <th>2018-01-15</th>\n",
       "      <td>3</td>\n",
       "      <td>0.0</td>\n",
       "      <td>0</td>\n",
       "      <td>NaN</td>\n",
       "      <td>NaN</td>\n",
       "      <td>0</td>\n",
       "      <td>3</td>\n",
       "      <td>3</td>\n",
       "      <td>1</td>\n",
       "    </tr>\n",
       "    <tr>\n",
       "      <th>2018-01-22</th>\n",
       "      <td>3</td>\n",
       "      <td>6988.0</td>\n",
       "      <td>0</td>\n",
       "      <td>-23.0</td>\n",
       "      <td>NaN</td>\n",
       "      <td>0</td>\n",
       "      <td>4</td>\n",
       "      <td>4</td>\n",
       "      <td>1</td>\n",
       "    </tr>\n",
       "    <tr>\n",
       "      <th>2018-01-29</th>\n",
       "      <td>3</td>\n",
       "      <td>6743.0</td>\n",
       "      <td>0</td>\n",
       "      <td>446.0</td>\n",
       "      <td>NaN</td>\n",
       "      <td>0</td>\n",
       "      <td>5</td>\n",
       "      <td>5</td>\n",
       "      <td>1</td>\n",
       "    </tr>\n",
       "    <tr>\n",
       "      <th>2018-02-05</th>\n",
       "      <td>3</td>\n",
       "      <td>4112.0</td>\n",
       "      <td>0</td>\n",
       "      <td>361.0</td>\n",
       "      <td>NaN</td>\n",
       "      <td>0</td>\n",
       "      <td>1</td>\n",
       "      <td>6</td>\n",
       "      <td>2</td>\n",
       "    </tr>\n",
       "    <tr>\n",
       "      <th>2018-02-12</th>\n",
       "      <td>3</td>\n",
       "      <td>5732.0</td>\n",
       "      <td>0</td>\n",
       "      <td>229.0</td>\n",
       "      <td>NaN</td>\n",
       "      <td>0</td>\n",
       "      <td>2</td>\n",
       "      <td>7</td>\n",
       "      <td>2</td>\n",
       "    </tr>\n",
       "    <tr>\n",
       "      <th>2018-02-19</th>\n",
       "      <td>3</td>\n",
       "      <td>NaN</td>\n",
       "      <td>0</td>\n",
       "      <td>219.0</td>\n",
       "      <td>NaN</td>\n",
       "      <td>0</td>\n",
       "      <td>3</td>\n",
       "      <td>8</td>\n",
       "      <td>2</td>\n",
       "    </tr>\n",
       "    <tr>\n",
       "      <th>2018-02-26</th>\n",
       "      <td>1</td>\n",
       "      <td>5559.0</td>\n",
       "      <td>0</td>\n",
       "      <td>495.0</td>\n",
       "      <td>NaN</td>\n",
       "      <td>0</td>\n",
       "      <td>4</td>\n",
       "      <td>9</td>\n",
       "      <td>2</td>\n",
       "    </tr>\n",
       "    <tr>\n",
       "      <th>2018-03-05</th>\n",
       "      <td>1</td>\n",
       "      <td>5381.0</td>\n",
       "      <td>0</td>\n",
       "      <td>278.0</td>\n",
       "      <td>NaN</td>\n",
       "      <td>0</td>\n",
       "      <td>1</td>\n",
       "      <td>10</td>\n",
       "      <td>3</td>\n",
       "    </tr>\n",
       "    <tr>\n",
       "      <th>2018-03-12</th>\n",
       "      <td>1</td>\n",
       "      <td>11709.0</td>\n",
       "      <td>1</td>\n",
       "      <td>316.0</td>\n",
       "      <td>5495.0</td>\n",
       "      <td>0</td>\n",
       "      <td>2</td>\n",
       "      <td>11</td>\n",
       "      <td>3</td>\n",
       "    </tr>\n",
       "    <tr>\n",
       "      <th>2018-03-19</th>\n",
       "      <td>1</td>\n",
       "      <td>10410.0</td>\n",
       "      <td>1</td>\n",
       "      <td>-50.0</td>\n",
       "      <td>6330.0</td>\n",
       "      <td>0</td>\n",
       "      <td>3</td>\n",
       "      <td>12</td>\n",
       "      <td>3</td>\n",
       "    </tr>\n",
       "    <tr>\n",
       "      <th>2018-03-26</th>\n",
       "      <td>1</td>\n",
       "      <td>10211.0</td>\n",
       "      <td>1</td>\n",
       "      <td>0.0</td>\n",
       "      <td>6144.0</td>\n",
       "      <td>0</td>\n",
       "      <td>4</td>\n",
       "      <td>13</td>\n",
       "      <td>3</td>\n",
       "    </tr>\n",
       "    <tr>\n",
       "      <th>2018-04-02</th>\n",
       "      <td>1</td>\n",
       "      <td>10378.0</td>\n",
       "      <td>1</td>\n",
       "      <td>0.0</td>\n",
       "      <td>6383.0</td>\n",
       "      <td>0</td>\n",
       "      <td>1</td>\n",
       "      <td>14</td>\n",
       "      <td>4</td>\n",
       "    </tr>\n",
       "    <tr>\n",
       "      <th>2018-04-09</th>\n",
       "      <td>1</td>\n",
       "      <td>10012.0</td>\n",
       "      <td>1</td>\n",
       "      <td>0.0</td>\n",
       "      <td>5533.0</td>\n",
       "      <td>0</td>\n",
       "      <td>2</td>\n",
       "      <td>15</td>\n",
       "      <td>4</td>\n",
       "    </tr>\n",
       "  </tbody>\n",
       "</table>\n",
       "</div>"
      ],
      "text/plain": [
       "SKU         Season  ProductA  ProductA_Promotion  ProductB  ProductC  \\\n",
       "ISO_Week                                                               \n",
       "2018-01-01       3       0.0                   0       NaN       NaN   \n",
       "2018-01-08       3       0.0                   0       NaN       NaN   \n",
       "2018-01-15       3       0.0                   0       NaN       NaN   \n",
       "2018-01-22       3    6988.0                   0     -23.0       NaN   \n",
       "2018-01-29       3    6743.0                   0     446.0       NaN   \n",
       "2018-02-05       3    4112.0                   0     361.0       NaN   \n",
       "2018-02-12       3    5732.0                   0     229.0       NaN   \n",
       "2018-02-19       3       NaN                   0     219.0       NaN   \n",
       "2018-02-26       1    5559.0                   0     495.0       NaN   \n",
       "2018-03-05       1    5381.0                   0     278.0       NaN   \n",
       "2018-03-12       1   11709.0                   1     316.0    5495.0   \n",
       "2018-03-19       1   10410.0                   1     -50.0    6330.0   \n",
       "2018-03-26       1   10211.0                   1       0.0    6144.0   \n",
       "2018-04-02       1   10378.0                   1       0.0    6383.0   \n",
       "2018-04-09       1   10012.0                   1       0.0    5533.0   \n",
       "\n",
       "SKU         ProductC_Promotion  Week_Number  Week_Sequence  Month  \n",
       "ISO_Week                                                           \n",
       "2018-01-01                   0            1              1      1  \n",
       "2018-01-08                   0            2              2      1  \n",
       "2018-01-15                   0            3              3      1  \n",
       "2018-01-22                   0            4              4      1  \n",
       "2018-01-29                   0            5              5      1  \n",
       "2018-02-05                   0            1              6      2  \n",
       "2018-02-12                   0            2              7      2  \n",
       "2018-02-19                   0            3              8      2  \n",
       "2018-02-26                   0            4              9      2  \n",
       "2018-03-05                   0            1             10      3  \n",
       "2018-03-12                   0            2             11      3  \n",
       "2018-03-19                   0            3             12      3  \n",
       "2018-03-26                   0            4             13      3  \n",
       "2018-04-02                   0            1             14      4  \n",
       "2018-04-09                   0            2             15      4  "
      ]
     },
     "execution_count": 27,
     "metadata": {},
     "output_type": "execute_result"
    }
   ],
   "source": [
    "sales_pivot.head(15)"
   ]
  },
  {
   "cell_type": "markdown",
   "metadata": {},
   "source": [
    "### Segregating data for 3 SKUs \n",
    "> The three SKUs vary heavily in terms of boundaries and promotional effect. If modelled under a single-umbrella, these important counters shall be marginalized."
   ]
  },
  {
   "cell_type": "code",
   "execution_count": 28,
   "metadata": {},
   "outputs": [],
   "source": [
    "prod_a = sales_pivot.loc[:, ['Season', 'ProductA', 'ProductA_Promotion', 'Week_Number', 'Week_Sequence','Month']]\n",
    "prod_b = sales_pivot.loc[:, ['Season', 'ProductB', 'Week_Number', 'Week_Sequence', 'Month']]\n",
    "prod_c = sales_pivot.loc['2018-03-18':, ['Season', 'ProductC', 'ProductC_Promotion', 'Week_Number', 'Week_Sequence', 'Month']]"
   ]
  },
  {
   "cell_type": "markdown",
   "metadata": {},
   "source": [
    "### Handling NaN, Outliers"
   ]
  },
  {
   "cell_type": "code",
   "execution_count": 29,
   "metadata": {},
   "outputs": [],
   "source": [
    "prod_a.dropna(inplace=True)\n",
    "prod_b.dropna(inplace=True)\n",
    "prod_c.dropna(inplace=True)"
   ]
  },
  {
   "cell_type": "markdown",
   "metadata": {},
   "source": [
    "*Training Data Prior to 42nd Week*\n",
    "*Prediction for "
   ]
  },
  {
   "cell_type": "code",
   "execution_count": 30,
   "metadata": {},
   "outputs": [],
   "source": [
    "train_a = prod_a.loc[prod_a['Week_Sequence'] < 42]\n",
    "test_a = prod_a.loc[prod_a['Week_Sequence'] >= 42]\n",
    "\n",
    "train_b = prod_b.loc[prod_b['Week_Sequence'] < 42]\n",
    "test_b = prod_b.loc[prod_b['Week_Sequence'] >= 42]\n",
    "\n",
    "train_c = prod_c.loc[prod_c['Week_Sequence'] < 42]\n",
    "test_c = prod_c.loc[prod_c['Week_Sequence'] >= 42]"
   ]
  },
  {
   "cell_type": "markdown",
   "metadata": {},
   "source": [
    "### Initial zero removal"
   ]
  },
  {
   "cell_type": "code",
   "execution_count": 31,
   "metadata": {},
   "outputs": [
    {
     "name": "stderr",
     "output_type": "stream",
     "text": [
      "C:\\Users\\Saurav\\Anaconda3\\lib\\site-packages\\pandas\\core\\frame.py:3940: SettingWithCopyWarning: \n",
      "A value is trying to be set on a copy of a slice from a DataFrame\n",
      "\n",
      "See the caveats in the documentation: http://pandas.pydata.org/pandas-docs/stable/indexing.html#indexing-view-versus-copy\n",
      "  errors=errors)\n"
     ]
    }
   ],
   "source": [
    "train_a.drop(train_a[train_a.ProductA == 0].index, inplace=True)\n",
    "train_b.drop(train_b[train_b.ProductB == 0].index, inplace=True)\n",
    "train_c.drop(train_c[train_c.ProductC == 0].index, inplace=True)\n",
    "\n",
    "train_a = train_a.drop(columns=['Week_Sequence'])\n",
    "train_b = train_b.drop(columns=['Week_Sequence'])\n",
    "train_c = train_c.drop(columns=['Week_Sequence'])"
   ]
  },
  {
   "cell_type": "code",
   "execution_count": 32,
   "metadata": {},
   "outputs": [],
   "source": [
    "train = [train_a, train_b, train_c]\n",
    "test = [test_a, test_b, test_c]\n",
    "product = ['ProductA', 'ProductB', 'ProductC']"
   ]
  },
  {
   "cell_type": "markdown",
   "metadata": {},
   "source": [
    "### Outlier Handling"
   ]
  },
  {
   "cell_type": "code",
   "execution_count": 33,
   "metadata": {},
   "outputs": [
    {
     "data": {
      "text/plain": [
       "<matplotlib.axes._subplots.AxesSubplot at 0x20e9d980f28>"
      ]
     },
     "execution_count": 33,
     "metadata": {},
     "output_type": "execute_result"
    },
    {
     "data": {
      "image/png": "[encoded data removed]",
      "text/plain": [
       "<Figure size 504x864 with 3 Axes>"
      ]
     },
     "metadata": {
      "needs_background": "light"
     },
     "output_type": "display_data"
    }
   ],
   "source": [
    "fig, axs = plt.subplots(3, 1, figsize=(7, 12))\n",
    "sns.boxplot('ProductA', data=train_a, ax=axs[0])\n",
    "sns.boxplot('ProductB', data=train_b, ax=axs[1])\n",
    "sns.boxplot('ProductC', data=train_c, ax=axs[2])"
   ]
  },
  {
   "cell_type": "code",
   "execution_count": 34,
   "metadata": {},
   "outputs": [],
   "source": [
    "for pos, i in enumerate(train):\n",
    "    \n",
    "    q75, q25 = np.percentile(i.loc[:, product[pos]], [75, 25])\n",
    "    iqr = q75 - q25\n",
    "    minimum = q25 - (iqr*1.5)\n",
    "    maximum = q75 + (iqr*1.5)\n",
    "    i.loc[i[product[pos]] < minimum, product[pos]] = np.nan\n",
    "    i.loc[i[product[pos]] > maximum, product[pos]] = np.nan"
   ]
  },
  {
   "cell_type": "code",
   "execution_count": 35,
   "metadata": {},
   "outputs": [],
   "source": [
    "for i in train:\n",
    "    i.dropna(inplace=True)"
   ]
  },
  {
   "cell_type": "code",
   "execution_count": 36,
   "metadata": {},
   "outputs": [],
   "source": [
    "train_a_y = train_a['ProductA']\n",
    "train_a_X = train_a.drop(columns=['ProductA'])\n",
    "\n",
    "train_b_y = train_b['ProductB']\n",
    "train_b_X = train_b.drop(columns=['ProductB'])\n",
    "\n",
    "train_c_y = train_c['ProductC']\n",
    "train_c_X = train_c.drop(columns=['ProductC'])\n",
    "\n",
    "train_y = [train_a_y, train_b_y, train_c_y]\n",
    "train_X = [train_a_X, train_b_X, train_c_X]"
   ]
  },
  {
   "cell_type": "code",
   "execution_count": 37,
   "metadata": {},
   "outputs": [],
   "source": [
    "for i in test:\n",
    "    i.drop(columns=['Week_Sequence'], inplace=True)"
   ]
  },
  {
   "cell_type": "code",
   "execution_count": 38,
   "metadata": {},
   "outputs": [],
   "source": [
    "test_a_y = test_a['ProductA']\n",
    "test_a_X = test_a.drop(columns=['ProductA'])\n",
    "\n",
    "test_b_y = test_b['ProductB']\n",
    "test_b_X = test_b.drop(columns=['ProductB'])\n",
    "\n",
    "test_c_y = test_c['ProductC']\n",
    "test_c_X = test_c.drop(columns=['ProductC'])\n",
    "\n",
    "test_y = [test_a_y, test_b_y, test_c_y]\n",
    "test_X = [test_a_X, test_b_X, test_c_X]"
   ]
  },
  {
   "cell_type": "code",
   "execution_count": 39,
   "metadata": {},
   "outputs": [],
   "source": [
    "from sklearn.ensemble import RandomForestRegressor"
   ]
  },
  {
   "cell_type": "code",
   "execution_count": 40,
   "metadata": {},
   "outputs": [],
   "source": [
    "model_a = RandomForestRegressor(n_estimators=100)\n",
    "model_b = RandomForestRegressor(n_estimators=100)\n",
    "model_c = RandomForestRegressor(n_estimators=100)\n",
    "model = [model_a, model_b, model_c]"
   ]
  },
  {
   "cell_type": "code",
   "execution_count": 41,
   "metadata": {},
   "outputs": [],
   "source": [
    "for (i, j, k) in zip(model, train_X, train_y):\n",
    "    \n",
    "    i.fit(j, k)\n",
    "    i.fit(j, k)\n",
    "    i.fit(j, k)"
   ]
  },
  {
   "cell_type": "code",
   "execution_count": 42,
   "metadata": {},
   "outputs": [],
   "source": [
    "pred_a = model_a.predict(test_a_X)\n",
    "pred_b = model_b.predict(test_b_X)\n",
    "pred_c = model_c.predict(test_c_X)\n",
    "\n",
    "pred = [pred_a, pred_b, pred_c]"
   ]
  },
  {
   "cell_type": "code",
   "execution_count": 43,
   "metadata": {},
   "outputs": [],
   "source": [
    "def mean_absolute_percentage_error(y_true, y_pred): \n",
    "    return np.mean(np.abs((y_true - y_pred) / y_true)) * 100"
   ]
  },
  {
   "cell_type": "code",
   "execution_count": 44,
   "metadata": {},
   "outputs": [
    {
     "name": "stdout",
     "output_type": "stream",
     "text": [
      "Mean Absolute Percentage error for ModelA: 21.1992\n",
      "Mean Absolute Percentage error for ModelB: inf\n",
      "Mean Absolute Percentage error for ModelC: 15.3772\n"
     ]
    }
   ],
   "source": [
    "mape = mean_absolute_percentage_error(test_a_y.values, pred_a)\n",
    "print(\"Mean Absolute Percentage error for ModelA: %.4f\" % mape)\n",
    "\n",
    "mape = mean_absolute_percentage_error(test_b_y, pred_b)\n",
    "print(\"Mean Absolute Percentage error for ModelB: %.4f\" % mape)\n",
    "\n",
    "mape = mean_absolute_percentage_error(test_c_y, pred_c)\n",
    "print(\"Mean Absolute Percentage error for ModelC: %.4f\" % mape)"
   ]
  },
  {
   "cell_type": "markdown",
   "metadata": {},
   "source": [
    "- The inf MAPE for Model B is a result of presence of 0 in true values"
   ]
  },
  {
   "cell_type": "code",
   "execution_count": 45,
   "metadata": {},
   "outputs": [
    {
     "name": "stdout",
     "output_type": "stream",
     "text": [
      "R2 Score for ModelA: 0.8136177220646345\n",
      "R2 Score for ModelB: -0.4764381124980066\n",
      "R2 Score for ModelC: 0.8428476552126927\n"
     ]
    }
   ],
   "source": [
    "print('R2 Score for ModelA:', model_a.score(test_a_X, test_a_y))\n",
    "print('R2 Score for ModelB:', model_b.score(test_b_X, test_b_y))\n",
    "print('R2 Score for ModelC:', model_c.score(test_c_X, test_c_y))"
   ]
  },
  {
   "cell_type": "markdown",
   "metadata": {},
   "source": [
    "> We can see that the Models for SKUA and SKUC yield descent R2 Score and MAPE, but the SKUB isn't.\n",
    "The reason for this is the validation data present (which can't be tampered) for SKUB which is as follows for the starting 4 Weeks. <br>\n",
    "- ISO_Week \n",
    "    1. 2018-10-15  **=====>**   -23.0\n",
    "    2. 2018-10-22  **=====>**    0.0\n",
    "    3. 2018-10-29  **=====>**    0.0\n",
    "    4. 2018-11-05  **=====>**    0.0\n",
    "- Any of the predicted values for these 4 weeks shall be contributing towards the error margin."
   ]
  },
  {
   "cell_type": "code",
   "execution_count": 46,
   "metadata": {},
   "outputs": [],
   "source": [
    "test_a_y = test_a_y.reset_index()\n",
    "test_b_y = test_b_y.reset_index()\n",
    "test_c_y = test_c_y.reset_index()"
   ]
  },
  {
   "cell_type": "code",
   "execution_count": 47,
   "metadata": {},
   "outputs": [],
   "source": [
    "date_intervals = test_a_y['ISO_Week'].dt.strftime('%Y-%W')"
   ]
  },
  {
   "cell_type": "code",
   "execution_count": 48,
   "metadata": {},
   "outputs": [],
   "source": [
    "data_a = {'ISO_Week': date_intervals, 'Forecast':pred_a}\n",
    "data_b = {'ISO_Week': date_intervals, 'Forecast':pred_b}\n",
    "data_c = {'ISO_Week': date_intervals, 'Forecast':pred_c}"
   ]
  },
  {
   "cell_type": "code",
   "execution_count": 49,
   "metadata": {},
   "outputs": [],
   "source": [
    "op_a = pd.DataFrame(data=data_a)\n",
    "op_b = pd.DataFrame(data=data_b)\n",
    "op_c = pd.DataFrame(data=data_c)"
   ]
  },
  {
   "cell_type": "code",
   "execution_count": 50,
   "metadata": {},
   "outputs": [],
   "source": [
    "op_a['SKU'] = 'ProductA'\n",
    "op_b['SKU'] = 'ProductB'\n",
    "op_c['SKU'] = 'ProductC'"
   ]
  },
  {
   "cell_type": "code",
   "execution_count": 51,
   "metadata": {},
   "outputs": [],
   "source": [
    "op_a.index = op_a['SKU']\n",
    "op_a.drop(columns='SKU', inplace=True)\n",
    "\n",
    "op_b.index = op_b['SKU']\n",
    "op_b.drop(columns='SKU', inplace=True)\n",
    "\n",
    "op_c.index = op_c['SKU']\n",
    "op_c.drop(columns='SKU', inplace=True)"
   ]
  },
  {
   "cell_type": "code",
   "execution_count": 52,
   "metadata": {},
   "outputs": [],
   "source": [
    "final_op = pd.concat([op_a, op_b, op_c])"
   ]
  },
  {
   "cell_type": "code",
   "execution_count": 57,
   "metadata": {},
   "outputs": [],
   "source": [
    "final_op['Forecast'] = final_op['Forecast'].apply(lambda x: math.ceil(x))"
   ]
  },
  {
   "cell_type": "code",
   "execution_count": 59,
   "metadata": {},
   "outputs": [],
   "source": [
    "final_op.to_excel('Output.xlsx')"
   ]
  },
  {
   "cell_type": "code",
   "execution_count": null,
   "metadata": {},
   "outputs": [],
   "source": []
  },
  {
   "cell_type": "code",
   "execution_count": null,
   "metadata": {},
   "outputs": [],
   "source": [
    "# import plotly.plotly as ply\n",
    "# import cufflinks as cf"
   ]
  },
  {
   "cell_type": "code",
   "execution_count": null,
   "metadata": {},
   "outputs": [],
   "source": [
    "# from statsmodels.tsa.stattools import adfuller\n",
    "# result = adfuller(prod_a_series['ProductA'].values, autolag='AIC')\n",
    "# print('ADF Statistic: %f' % result[0])\n",
    "# print('p-value: %f' % result[1])\n",
    "# print('Critical Values:')\n",
    "# for key, value in result[4].items():\n",
    "# \tprint('\\t%s: %.3f' % (key, value))"
   ]
  },
  {
   "cell_type": "code",
   "execution_count": null,
   "metadata": {},
   "outputs": [],
   "source": [
    "# rolmean = prod_a['ProductA'].rolling(window=4).mean()\n",
    "# rolstd = prod_a['ProductA'].rolling(window=4).std()\n",
    "# plt.figure(figsize=(15,5))\n",
    "# #Plot rolling statistics:\n",
    "# orig = plt.plot(prod_a['ProductA'], color='blue',label='Original')\n",
    "# mean = plt.plot(rolmean, color='red', label='Rolling Mean')\n",
    "# std = plt.plot(rolstd, color='black', label = 'Rolling Std')\n",
    "# plt.legend(loc='best')\n",
    "# plt.title('Rolling Mean & Standard Deviation')\n",
    "# #plt.savefig('Rolling_Statistics.png', bbox_inches='tight')\n",
    "# plt.show(block=False)"
   ]
  },
  {
   "cell_type": "code",
   "execution_count": null,
   "metadata": {},
   "outputs": [],
   "source": [
    "# from plotly.offline import download_plotlyjs, init_notebook_mode, plot, iplot, plot_mpl\n",
    "# import plotly.graph_objs as go\n",
    "# init_notebook_mode(connected=True)"
   ]
  },
  {
   "cell_type": "code",
   "execution_count": null,
   "metadata": {},
   "outputs": [],
   "source": [
    "# iplot([{\n",
    "#     'x': train_a_X.index,\n",
    "#     'y': train_a_y,\n",
    "# } ])"
   ]
  },
  {
   "cell_type": "code",
   "execution_count": null,
   "metadata": {},
   "outputs": [],
   "source": [
    "# prod_a.index = pd.to_datetime(prod_a.index)"
   ]
  },
  {
   "cell_type": "code",
   "execution_count": null,
   "metadata": {},
   "outputs": [],
   "source": [
    "# from plotly.plotly import plot_mpl\n",
    "# from statsmodels.tsa.seasonal import seasonal_decompose\n",
    "# result = seasonal_decompose(prod_a[['ProductA']].values, freq=4, model='additive')\n",
    "# fig = result.plot()\n"
   ]
  },
  {
   "cell_type": "code",
   "execution_count": null,
   "metadata": {},
   "outputs": [],
   "source": [
    "# from pmdarima import auto_arima\n",
    "# stepwise_model = auto_arima(prod_a['ProductA'], start_p=0, start_q=0,\n",
    "#                            max_p=3, max_q=3, m=12,\n",
    "#                            start_P=0, seasonal=True,\n",
    "#                            d=0, D=1,trace=True,\n",
    "#                            error_action='ignore',  \n",
    "#                            suppress_warnings=True, \n",
    "#                            stepwise=True)\n",
    "# print(stepwise_model.aic())"
   ]
  },
  {
   "cell_type": "code",
   "execution_count": null,
   "metadata": {},
   "outputs": [],
   "source": [
    "# train = prod_a.loc[:'2018-10-15']\n",
    "# test = prod_a.loc['2018-10-15':]"
   ]
  },
  {
   "cell_type": "code",
   "execution_count": null,
   "metadata": {},
   "outputs": [],
   "source": [
    "# stepwise_model.fit(train['ProductA'])"
   ]
  },
  {
   "cell_type": "code",
   "execution_count": null,
   "metadata": {},
   "outputs": [],
   "source": [
    "# future_forecast = stepwise_model.predict(n_periods=11)\n",
    "# pred_ts_a = future_forecast"
   ]
  },
  {
   "cell_type": "code",
   "execution_count": null,
   "metadata": {},
   "outputs": [],
   "source": [
    "# mape = mean_absolute_percentage_error(test_a_y['ProductA'].values, pred_ts_a)\n",
    "# print(\"Mean Absolute Percentage error for ModelA: %.4f\" % mape)"
   ]
  },
  {
   "cell_type": "code",
   "execution_count": null,
   "metadata": {},
   "outputs": [],
   "source": []
  }
 ],
 "metadata": {
  "kernelspec": {
   "display_name": "Python 3",
   "language": "python",
   "name": "python3"
  },
  "language_info": {
   "codemirror_mode": {
    "name": "ipython",
    "version": 3
   },
   "file_extension": ".py",
   "mimetype": "text/x-python",
   "name": "python",
   "nbconvert_exporter": "python",
   "pygments_lexer": "ipython3",
   "version": "3.7.3"
  }
 },
 "nbformat": 4,
 "nbformat_minor": 2
}
